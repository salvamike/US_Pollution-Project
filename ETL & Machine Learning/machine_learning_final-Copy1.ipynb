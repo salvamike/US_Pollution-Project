{
 "cells": [
  {
   "cell_type": "code",
   "execution_count": 1,
   "id": "afe0c9fa",
   "metadata": {},
   "outputs": [],
   "source": [
    "# Import Dependencies\n",
    "import pandas as pd\n",
    "import psycopg2\n",
    "from sqlalchemy import create_engine\n",
    "import numpy as np\n",
    "import matplotlib.pyplot as plt\n",
    "%matplotlib inline\n",
    "import seaborn as sns"
   ]
  },
  {
   "cell_type": "code",
   "execution_count": 3,
   "id": "72df636d",
   "metadata": {},
   "outputs": [],
   "source": [
    "# Read data from csv\n",
    "full_df = pd.read_csv(\"full_df.csv\")"
   ]
  },
  {
   "cell_type": "code",
   "execution_count": 4,
   "id": "23cc26c0",
   "metadata": {},
   "outputs": [
    {
     "data": {
      "text/html": [
       "<div>\n",
       "<style scoped>\n",
       "    .dataframe tbody tr th:only-of-type {\n",
       "        vertical-align: middle;\n",
       "    }\n",
       "\n",
       "    .dataframe tbody tr th {\n",
       "        vertical-align: top;\n",
       "    }\n",
       "\n",
       "    .dataframe thead th {\n",
       "        text-align: right;\n",
       "    }\n",
       "</style>\n",
       "<table border=\"1\" class=\"dataframe\">\n",
       "  <thead>\n",
       "    <tr style=\"text-align: right;\">\n",
       "      <th></th>\n",
       "      <th>CBSA</th>\n",
       "      <th>CBSA Code</th>\n",
       "      <th>Year</th>\n",
       "      <th>Days with AQI</th>\n",
       "      <th>Good Days</th>\n",
       "      <th>Moderate Days</th>\n",
       "      <th>Unhealthy for Sensitive Groups Days</th>\n",
       "      <th>Unhealthy Days</th>\n",
       "      <th>Very Unhealthy Days</th>\n",
       "      <th>Hazardous Days</th>\n",
       "      <th>Max AQI</th>\n",
       "      <th>90th Percentile AQI</th>\n",
       "      <th>Median AQI</th>\n",
       "      <th>Days CO</th>\n",
       "      <th>Days NO2</th>\n",
       "      <th>Days Ozone</th>\n",
       "      <th>Days PM2.5</th>\n",
       "      <th>Days PM10</th>\n",
       "    </tr>\n",
       "  </thead>\n",
       "  <tbody>\n",
       "    <tr>\n",
       "      <th>0</th>\n",
       "      <td>Aberdeen, SD</td>\n",
       "      <td>10100</td>\n",
       "      <td>2012</td>\n",
       "      <td>123</td>\n",
       "      <td>104</td>\n",
       "      <td>19</td>\n",
       "      <td>0</td>\n",
       "      <td>0</td>\n",
       "      <td>0</td>\n",
       "      <td>0</td>\n",
       "      <td>77</td>\n",
       "      <td>53</td>\n",
       "      <td>28</td>\n",
       "      <td>0</td>\n",
       "      <td>0</td>\n",
       "      <td>0</td>\n",
       "      <td>109</td>\n",
       "      <td>14</td>\n",
       "    </tr>\n",
       "    <tr>\n",
       "      <th>1</th>\n",
       "      <td>Aberdeen, WA</td>\n",
       "      <td>10140</td>\n",
       "      <td>2012</td>\n",
       "      <td>366</td>\n",
       "      <td>348</td>\n",
       "      <td>18</td>\n",
       "      <td>0</td>\n",
       "      <td>0</td>\n",
       "      <td>0</td>\n",
       "      <td>0</td>\n",
       "      <td>81</td>\n",
       "      <td>42</td>\n",
       "      <td>20</td>\n",
       "      <td>0</td>\n",
       "      <td>0</td>\n",
       "      <td>0</td>\n",
       "      <td>366</td>\n",
       "      <td>0</td>\n",
       "    </tr>\n",
       "    <tr>\n",
       "      <th>2</th>\n",
       "      <td>Adjuntas, PR</td>\n",
       "      <td>10260</td>\n",
       "      <td>2012</td>\n",
       "      <td>77</td>\n",
       "      <td>74</td>\n",
       "      <td>3</td>\n",
       "      <td>0</td>\n",
       "      <td>0</td>\n",
       "      <td>0</td>\n",
       "      <td>0</td>\n",
       "      <td>66</td>\n",
       "      <td>36</td>\n",
       "      <td>18</td>\n",
       "      <td>0</td>\n",
       "      <td>0</td>\n",
       "      <td>0</td>\n",
       "      <td>77</td>\n",
       "      <td>0</td>\n",
       "    </tr>\n",
       "    <tr>\n",
       "      <th>3</th>\n",
       "      <td>Adrian, MI</td>\n",
       "      <td>10300</td>\n",
       "      <td>2012</td>\n",
       "      <td>243</td>\n",
       "      <td>142</td>\n",
       "      <td>76</td>\n",
       "      <td>21</td>\n",
       "      <td>4</td>\n",
       "      <td>0</td>\n",
       "      <td>0</td>\n",
       "      <td>187</td>\n",
       "      <td>101</td>\n",
       "      <td>48</td>\n",
       "      <td>0</td>\n",
       "      <td>0</td>\n",
       "      <td>174</td>\n",
       "      <td>69</td>\n",
       "      <td>0</td>\n",
       "    </tr>\n",
       "    <tr>\n",
       "      <th>4</th>\n",
       "      <td>Akron, OH</td>\n",
       "      <td>10420</td>\n",
       "      <td>2012</td>\n",
       "      <td>366</td>\n",
       "      <td>186</td>\n",
       "      <td>173</td>\n",
       "      <td>6</td>\n",
       "      <td>1</td>\n",
       "      <td>0</td>\n",
       "      <td>0</td>\n",
       "      <td>164</td>\n",
       "      <td>78</td>\n",
       "      <td>50</td>\n",
       "      <td>81</td>\n",
       "      <td>0</td>\n",
       "      <td>98</td>\n",
       "      <td>187</td>\n",
       "      <td>0</td>\n",
       "    </tr>\n",
       "    <tr>\n",
       "      <th>5</th>\n",
       "      <td>Albany, GA</td>\n",
       "      <td>10500</td>\n",
       "      <td>2012</td>\n",
       "      <td>360</td>\n",
       "      <td>254</td>\n",
       "      <td>104</td>\n",
       "      <td>2</td>\n",
       "      <td>0</td>\n",
       "      <td>0</td>\n",
       "      <td>0</td>\n",
       "      <td>124</td>\n",
       "      <td>63</td>\n",
       "      <td>38</td>\n",
       "      <td>0</td>\n",
       "      <td>0</td>\n",
       "      <td>0</td>\n",
       "      <td>359</td>\n",
       "      <td>1</td>\n",
       "    </tr>\n",
       "    <tr>\n",
       "      <th>6</th>\n",
       "      <td>Albany, OR</td>\n",
       "      <td>10540</td>\n",
       "      <td>2012</td>\n",
       "      <td>366</td>\n",
       "      <td>319</td>\n",
       "      <td>47</td>\n",
       "      <td>0</td>\n",
       "      <td>0</td>\n",
       "      <td>0</td>\n",
       "      <td>0</td>\n",
       "      <td>91</td>\n",
       "      <td>53</td>\n",
       "      <td>23</td>\n",
       "      <td>0</td>\n",
       "      <td>0</td>\n",
       "      <td>0</td>\n",
       "      <td>366</td>\n",
       "      <td>0</td>\n",
       "    </tr>\n",
       "    <tr>\n",
       "      <th>7</th>\n",
       "      <td>Albany-Schenectady-Troy, NY</td>\n",
       "      <td>10580</td>\n",
       "      <td>2012</td>\n",
       "      <td>366</td>\n",
       "      <td>294</td>\n",
       "      <td>64</td>\n",
       "      <td>8</td>\n",
       "      <td>0</td>\n",
       "      <td>0</td>\n",
       "      <td>0</td>\n",
       "      <td>143</td>\n",
       "      <td>60</td>\n",
       "      <td>39</td>\n",
       "      <td>1</td>\n",
       "      <td>0</td>\n",
       "      <td>272</td>\n",
       "      <td>93</td>\n",
       "      <td>0</td>\n",
       "    </tr>\n",
       "    <tr>\n",
       "      <th>8</th>\n",
       "      <td>Albuquerque, NM</td>\n",
       "      <td>10740</td>\n",
       "      <td>2012</td>\n",
       "      <td>366</td>\n",
       "      <td>100</td>\n",
       "      <td>241</td>\n",
       "      <td>23</td>\n",
       "      <td>1</td>\n",
       "      <td>1</td>\n",
       "      <td>0</td>\n",
       "      <td>291</td>\n",
       "      <td>96</td>\n",
       "      <td>60</td>\n",
       "      <td>0</td>\n",
       "      <td>2</td>\n",
       "      <td>228</td>\n",
       "      <td>105</td>\n",
       "      <td>31</td>\n",
       "    </tr>\n",
       "    <tr>\n",
       "      <th>9</th>\n",
       "      <td>Alexandria, LA</td>\n",
       "      <td>10780</td>\n",
       "      <td>2012</td>\n",
       "      <td>362</td>\n",
       "      <td>177</td>\n",
       "      <td>185</td>\n",
       "      <td>0</td>\n",
       "      <td>0</td>\n",
       "      <td>0</td>\n",
       "      <td>0</td>\n",
       "      <td>88</td>\n",
       "      <td>66</td>\n",
       "      <td>52</td>\n",
       "      <td>0</td>\n",
       "      <td>0</td>\n",
       "      <td>0</td>\n",
       "      <td>362</td>\n",
       "      <td>0</td>\n",
       "    </tr>\n",
       "  </tbody>\n",
       "</table>\n",
       "</div>"
      ],
      "text/plain": [
       "                          CBSA  CBSA Code  Year  Days with AQI  Good Days  \\\n",
       "0                 Aberdeen, SD      10100  2012            123        104   \n",
       "1                 Aberdeen, WA      10140  2012            366        348   \n",
       "2                 Adjuntas, PR      10260  2012             77         74   \n",
       "3                   Adrian, MI      10300  2012            243        142   \n",
       "4                    Akron, OH      10420  2012            366        186   \n",
       "5                   Albany, GA      10500  2012            360        254   \n",
       "6                   Albany, OR      10540  2012            366        319   \n",
       "7  Albany-Schenectady-Troy, NY      10580  2012            366        294   \n",
       "8              Albuquerque, NM      10740  2012            366        100   \n",
       "9               Alexandria, LA      10780  2012            362        177   \n",
       "\n",
       "   Moderate Days  Unhealthy for Sensitive Groups Days  Unhealthy Days  \\\n",
       "0             19                                    0               0   \n",
       "1             18                                    0               0   \n",
       "2              3                                    0               0   \n",
       "3             76                                   21               4   \n",
       "4            173                                    6               1   \n",
       "5            104                                    2               0   \n",
       "6             47                                    0               0   \n",
       "7             64                                    8               0   \n",
       "8            241                                   23               1   \n",
       "9            185                                    0               0   \n",
       "\n",
       "   Very Unhealthy Days  Hazardous Days  Max AQI  90th Percentile AQI  \\\n",
       "0                    0               0       77                   53   \n",
       "1                    0               0       81                   42   \n",
       "2                    0               0       66                   36   \n",
       "3                    0               0      187                  101   \n",
       "4                    0               0      164                   78   \n",
       "5                    0               0      124                   63   \n",
       "6                    0               0       91                   53   \n",
       "7                    0               0      143                   60   \n",
       "8                    1               0      291                   96   \n",
       "9                    0               0       88                   66   \n",
       "\n",
       "   Median AQI  Days CO  Days NO2  Days Ozone  Days PM2.5  Days PM10  \n",
       "0          28        0         0           0         109         14  \n",
       "1          20        0         0           0         366          0  \n",
       "2          18        0         0           0          77          0  \n",
       "3          48        0         0         174          69          0  \n",
       "4          50       81         0          98         187          0  \n",
       "5          38        0         0           0         359          1  \n",
       "6          23        0         0           0         366          0  \n",
       "7          39        1         0         272          93          0  \n",
       "8          60        0         2         228         105         31  \n",
       "9          52        0         0           0         362          0  "
      ]
     },
     "execution_count": 4,
     "metadata": {},
     "output_type": "execute_result"
    }
   ],
   "source": [
    "# Display full_df\n",
    "full_df.head(10)"
   ]
  },
  {
   "cell_type": "code",
   "execution_count": 5,
   "id": "771681db",
   "metadata": {},
   "outputs": [
    {
     "data": {
      "text/plain": [
       "CBSA                                   object\n",
       "CBSA Code                               int64\n",
       "Year                                    int64\n",
       "Days with AQI                           int64\n",
       "Good Days                               int64\n",
       "Moderate Days                           int64\n",
       "Unhealthy for Sensitive Groups Days     int64\n",
       "Unhealthy Days                          int64\n",
       "Very Unhealthy Days                     int64\n",
       "Hazardous Days                          int64\n",
       "Max AQI                                 int64\n",
       "90th Percentile AQI                     int64\n",
       "Median AQI                              int64\n",
       "Days CO                                 int64\n",
       "Days NO2                                int64\n",
       "Days Ozone                              int64\n",
       "Days PM2.5                              int64\n",
       "Days PM10                               int64\n",
       "dtype: object"
      ]
     },
     "execution_count": 5,
     "metadata": {},
     "output_type": "execute_result"
    }
   ],
   "source": [
    "#check types\n",
    "full_df.dtypes"
   ]
  },
  {
   "cell_type": "code",
   "execution_count": 6,
   "id": "fd78e0ea",
   "metadata": {},
   "outputs": [
    {
     "data": {
      "text/plain": [
       "Index(['CBSA', 'CBSA Code', 'Year', 'Days with AQI', 'Good Days',\n",
       "       'Moderate Days', 'Unhealthy for Sensitive Groups Days',\n",
       "       'Unhealthy Days', 'Very Unhealthy Days', 'Hazardous Days', 'Max AQI',\n",
       "       '90th Percentile AQI', 'Median AQI', 'Days CO', 'Days NO2',\n",
       "       'Days Ozone', 'Days PM2.5', 'Days PM10'],\n",
       "      dtype='object')"
      ]
     },
     "execution_count": 6,
     "metadata": {},
     "output_type": "execute_result"
    }
   ],
   "source": [
    "# view columns\n",
    "full_df.columns"
   ]
  },
  {
   "cell_type": "code",
   "execution_count": 7,
   "id": "a5a0ef3d",
   "metadata": {},
   "outputs": [
    {
     "data": {
      "text/plain": [
       "5680"
      ]
     },
     "execution_count": 7,
     "metadata": {},
     "output_type": "execute_result"
    }
   ],
   "source": [
    "# Check Record Count (should = 5680 rows)\n",
    "len(full_df.index)"
   ]
  },
  {
   "cell_type": "code",
   "execution_count": 8,
   "id": "cba9e1f4",
   "metadata": {},
   "outputs": [
    {
     "data": {
      "text/plain": [
       "Year  CBSA                                \n",
       "2021  Phoenix-Mesa-Scottsdale, AZ             123.0\n",
       "2020  Phoenix-Mesa-Scottsdale, AZ             119.0\n",
       "2012  Riverside-San Bernardino-Ontario, CA    100.0\n",
       "2020  Riverside-San Bernardino-Ontario, CA     98.0\n",
       "2017  Riverside-San Bernardino-Ontario, CA     98.0\n",
       "Name: Median AQI, dtype: float64"
      ]
     },
     "execution_count": 8,
     "metadata": {},
     "output_type": "execute_result"
    }
   ],
   "source": [
    "# Determine Top 5 Worst AQI Cities\n",
    "Worst_AQI = full_df.groupby([\"Year\",\"CBSA\"])[\"Median AQI\"].mean().sort_values(ascending=False)\n",
    "Worst_AQI.head(5)"
   ]
  },
  {
   "cell_type": "code",
   "execution_count": 9,
   "id": "f7b2b2ef",
   "metadata": {},
   "outputs": [
    {
     "data": {
      "text/plain": [
       "Year  CBSA          \n",
       "2022  Moscow, ID        0.0\n",
       "      Danville, VA      3.0\n",
       "      Pierre, SD        3.0\n",
       "2021  Danville, VA      3.0\n",
       "2013  Dodge City, KS    6.0\n",
       "Name: Median AQI, dtype: float64"
      ]
     },
     "execution_count": 9,
     "metadata": {},
     "output_type": "execute_result"
    }
   ],
   "source": [
    "# Determine Top 5 Best AQI Cities\n",
    "Best_AQI = full_df.groupby([\"Year\",\"CBSA\"])[\"Median AQI\"].mean().sort_values(ascending=True)\n",
    "Best_AQI.head(5)"
   ]
  },
  {
   "cell_type": "code",
   "execution_count": 187,
   "id": "d0d9d8c9",
   "metadata": {
    "scrolled": true
   },
   "outputs": [
    {
     "data": {
      "text/html": [
       "<div>\n",
       "<style scoped>\n",
       "    .dataframe tbody tr th:only-of-type {\n",
       "        vertical-align: middle;\n",
       "    }\n",
       "\n",
       "    .dataframe tbody tr th {\n",
       "        vertical-align: top;\n",
       "    }\n",
       "\n",
       "    .dataframe thead th {\n",
       "        text-align: right;\n",
       "    }\n",
       "</style>\n",
       "<table border=\"1\" class=\"dataframe\">\n",
       "  <thead>\n",
       "    <tr style=\"text-align: right;\">\n",
       "      <th></th>\n",
       "      <th></th>\n",
       "      <th>Median AQI</th>\n",
       "    </tr>\n",
       "    <tr>\n",
       "      <th>Year</th>\n",
       "      <th>CBSA</th>\n",
       "      <th></th>\n",
       "    </tr>\n",
       "  </thead>\n",
       "  <tbody>\n",
       "    <tr>\n",
       "      <th>2021</th>\n",
       "      <th>Phoenix-Mesa-Scottsdale, AZ</th>\n",
       "      <td>123.0</td>\n",
       "    </tr>\n",
       "    <tr>\n",
       "      <th>2020</th>\n",
       "      <th>Phoenix-Mesa-Scottsdale, AZ</th>\n",
       "      <td>119.0</td>\n",
       "    </tr>\n",
       "    <tr>\n",
       "      <th>2012</th>\n",
       "      <th>Riverside-San Bernardino-Ontario, CA</th>\n",
       "      <td>100.0</td>\n",
       "    </tr>\n",
       "    <tr>\n",
       "      <th>2020</th>\n",
       "      <th>Riverside-San Bernardino-Ontario, CA</th>\n",
       "      <td>98.0</td>\n",
       "    </tr>\n",
       "    <tr>\n",
       "      <th>2017</th>\n",
       "      <th>Riverside-San Bernardino-Ontario, CA</th>\n",
       "      <td>98.0</td>\n",
       "    </tr>\n",
       "    <tr>\n",
       "      <th>2013</th>\n",
       "      <th>Riverside-San Bernardino-Ontario, CA</th>\n",
       "      <td>97.0</td>\n",
       "    </tr>\n",
       "    <tr>\n",
       "      <th>2021</th>\n",
       "      <th>Riverside-San Bernardino-Ontario, CA</th>\n",
       "      <td>97.0</td>\n",
       "    </tr>\n",
       "    <tr>\n",
       "      <th rowspan=\"2\" valign=\"top\">2014</th>\n",
       "      <th>Riverside-San Bernardino-Ontario, CA</th>\n",
       "      <td>97.0</td>\n",
       "    </tr>\n",
       "    <tr>\n",
       "      <th>Bakersfield, CA</th>\n",
       "      <td>97.0</td>\n",
       "    </tr>\n",
       "    <tr>\n",
       "      <th>2015</th>\n",
       "      <th>Riverside-San Bernardino-Ontario, CA</th>\n",
       "      <td>97.0</td>\n",
       "    </tr>\n",
       "  </tbody>\n",
       "</table>\n",
       "</div>"
      ],
      "text/plain": [
       "                                           Median AQI\n",
       "Year CBSA                                            \n",
       "2021 Phoenix-Mesa-Scottsdale, AZ                123.0\n",
       "2020 Phoenix-Mesa-Scottsdale, AZ                119.0\n",
       "2012 Riverside-San Bernardino-Ontario, CA       100.0\n",
       "2020 Riverside-San Bernardino-Ontario, CA        98.0\n",
       "2017 Riverside-San Bernardino-Ontario, CA        98.0\n",
       "2013 Riverside-San Bernardino-Ontario, CA        97.0\n",
       "2021 Riverside-San Bernardino-Ontario, CA        97.0\n",
       "2014 Riverside-San Bernardino-Ontario, CA        97.0\n",
       "     Bakersfield, CA                             97.0\n",
       "2015 Riverside-San Bernardino-Ontario, CA        97.0"
      ]
     },
     "execution_count": 187,
     "metadata": {},
     "output_type": "execute_result"
    }
   ],
   "source": [
    "#view as dataframe\n",
    "combined_AQI1 = pd.DataFrame(Worst_AQI)\n",
    "combined_AQI1.head(10)"
   ]
  },
  {
   "cell_type": "code",
   "execution_count": 211,
   "id": "9b4b8812",
   "metadata": {},
   "outputs": [
    {
     "data": {
      "text/html": [
       "<div>\n",
       "<style scoped>\n",
       "    .dataframe tbody tr th:only-of-type {\n",
       "        vertical-align: middle;\n",
       "    }\n",
       "\n",
       "    .dataframe tbody tr th {\n",
       "        vertical-align: top;\n",
       "    }\n",
       "\n",
       "    .dataframe thead th {\n",
       "        text-align: right;\n",
       "    }\n",
       "</style>\n",
       "<table border=\"1\" class=\"dataframe\">\n",
       "  <thead>\n",
       "    <tr style=\"text-align: right;\">\n",
       "      <th></th>\n",
       "      <th>Year</th>\n",
       "      <th>CBSA</th>\n",
       "      <th>Median AQI</th>\n",
       "    </tr>\n",
       "  </thead>\n",
       "  <tbody>\n",
       "    <tr>\n",
       "      <th>0</th>\n",
       "      <td>2021</td>\n",
       "      <td>Phoenix-Mesa-Scottsdale, AZ</td>\n",
       "      <td>123.0</td>\n",
       "    </tr>\n",
       "    <tr>\n",
       "      <th>1</th>\n",
       "      <td>2020</td>\n",
       "      <td>Phoenix-Mesa-Scottsdale, AZ</td>\n",
       "      <td>119.0</td>\n",
       "    </tr>\n",
       "    <tr>\n",
       "      <th>2</th>\n",
       "      <td>2012</td>\n",
       "      <td>Riverside-San Bernardino-Ontario, CA</td>\n",
       "      <td>100.0</td>\n",
       "    </tr>\n",
       "    <tr>\n",
       "      <th>3</th>\n",
       "      <td>2020</td>\n",
       "      <td>Riverside-San Bernardino-Ontario, CA</td>\n",
       "      <td>98.0</td>\n",
       "    </tr>\n",
       "    <tr>\n",
       "      <th>4</th>\n",
       "      <td>2017</td>\n",
       "      <td>Riverside-San Bernardino-Ontario, CA</td>\n",
       "      <td>98.0</td>\n",
       "    </tr>\n",
       "  </tbody>\n",
       "</table>\n",
       "</div>"
      ],
      "text/plain": [
       "   Year                                  CBSA  Median AQI\n",
       "0  2021           Phoenix-Mesa-Scottsdale, AZ       123.0\n",
       "1  2020           Phoenix-Mesa-Scottsdale, AZ       119.0\n",
       "2  2012  Riverside-San Bernardino-Ontario, CA       100.0\n",
       "3  2020  Riverside-San Bernardino-Ontario, CA        98.0\n",
       "4  2017  Riverside-San Bernardino-Ontario, CA        98.0"
      ]
     },
     "execution_count": 211,
     "metadata": {},
     "output_type": "execute_result"
    }
   ],
   "source": [
    "#clean up data frame by resetting index\n",
    "combined_AQI= combined_AQI1.reset_index()\n",
    "combined_AQI.head()"
   ]
  },
  {
   "cell_type": "code",
   "execution_count": 212,
   "id": "319e5663",
   "metadata": {},
   "outputs": [
    {
     "data": {
      "text/plain": [
       "CBSA\n",
       "Laurel, MS                1\n",
       "Ada, OK                   1\n",
       "Cleveland, TN             1\n",
       "Elmira, NY                1\n",
       "Kingston, NY              1\n",
       "Helena-West Helena, AR    1\n",
       "Vermillion, SD            1\n",
       "Russellville, AR          1\n",
       "Shawnee, OK               1\n",
       "Breckenridge, CO          1\n",
       "Danville, VA              2\n",
       "Crawfordsville, IN        2\n",
       "Gallup, NM                2\n",
       "Manhattan, KS             2\n",
       "Beatrice, NE              2\n",
       "Jonesboro, AR             2\n",
       "Silver City, NM           3\n",
       "Jamestown, ND             3\n",
       "Wichita Falls, TX         3\n",
       "Montrose, CO              3\n",
       "dtype: int64"
      ]
     },
     "execution_count": 212,
     "metadata": {},
     "output_type": "execute_result"
    }
   ],
   "source": [
    "#view outlier values\n",
    "combined_AQI.groupby(\"CBSA\").size().sort_values(ascending=True).head(20)\n"
   ]
  },
  {
   "cell_type": "code",
   "execution_count": 213,
   "id": "f8e50cf9",
   "metadata": {},
   "outputs": [],
   "source": [
    "#drop outlier values less than 2\n",
    "combined_AQI.drop(combined_AQI[combined_AQI['CBSA'] ==\"Laurel, MS\"].index,inplace=True)\n",
    "combined_AQI.drop(combined_AQI[combined_AQI['CBSA'] ==\"Russellville, AR\"].index,inplace=True)\n",
    "combined_AQI.drop(combined_AQI[combined_AQI['CBSA'] ==\"Elmira, NY\"].index,inplace=True)\n",
    "combined_AQI.drop(combined_AQI[combined_AQI['CBSA'] ==\"Breckenridge, CO\"].index,inplace=True)\n",
    "combined_AQI.drop(combined_AQI[combined_AQI['CBSA'] ==\"Shawnee, OK\"].index,inplace=True)\n",
    "combined_AQI.drop(combined_AQI[combined_AQI['CBSA'] ==\"Helena-West Helena, AR\"].index,inplace=True)\n",
    "combined_AQI.drop(combined_AQI[combined_AQI['CBSA'] ==\"Kingston, NY\"].index,inplace=True)\n",
    "combined_AQI.drop(combined_AQI[combined_AQI['CBSA'] ==\"Vermillion, SD\"].index,inplace=True)\n",
    "combined_AQI.drop(combined_AQI[combined_AQI['CBSA'] ==\"Cleveland, TN\"].index,inplace=True)\n",
    "combined_AQI.drop(combined_AQI[combined_AQI['CBSA'] ==\"Ada, OK\"].index,inplace=True)"
   ]
  },
  {
   "cell_type": "code",
   "execution_count": 214,
   "id": "f270dad8",
   "metadata": {},
   "outputs": [],
   "source": [
    "# add CBSA columns back into dataframe\n",
    "combined_AQI_CBSA = combined_AQI['CBSA']"
   ]
  },
  {
   "cell_type": "code",
   "execution_count": 215,
   "id": "04cdaa31",
   "metadata": {},
   "outputs": [],
   "source": [
    "# create one hot encoding\n",
    "combined_AQI = pd.get_dummies(combined_AQI, prefix=\"city\", columns=[\"CBSA\"])"
   ]
  },
  {
   "cell_type": "code",
   "execution_count": 216,
   "id": "a12df831",
   "metadata": {},
   "outputs": [
    {
     "data": {
      "text/html": [
       "<div>\n",
       "<style scoped>\n",
       "    .dataframe tbody tr th:only-of-type {\n",
       "        vertical-align: middle;\n",
       "    }\n",
       "\n",
       "    .dataframe tbody tr th {\n",
       "        vertical-align: top;\n",
       "    }\n",
       "\n",
       "    .dataframe thead th {\n",
       "        text-align: right;\n",
       "    }\n",
       "</style>\n",
       "<table border=\"1\" class=\"dataframe\">\n",
       "  <thead>\n",
       "    <tr style=\"text-align: right;\">\n",
       "      <th></th>\n",
       "      <th>Year</th>\n",
       "      <th>Median AQI</th>\n",
       "      <th>city_Aberdeen, SD</th>\n",
       "      <th>city_Aberdeen, WA</th>\n",
       "      <th>city_Adjuntas, PR</th>\n",
       "      <th>city_Adrian, MI</th>\n",
       "      <th>city_Akron, OH</th>\n",
       "      <th>city_Albany, GA</th>\n",
       "      <th>city_Albany, OR</th>\n",
       "      <th>city_Albany-Schenectady-Troy, NY</th>\n",
       "      <th>...</th>\n",
       "      <th>city_Wilmington, OH</th>\n",
       "      <th>city_Winchester, VA-WV</th>\n",
       "      <th>city_Winona, MN</th>\n",
       "      <th>city_Winston-Salem, NC</th>\n",
       "      <th>city_Worcester, MA-CT</th>\n",
       "      <th>city_Yakima, WA</th>\n",
       "      <th>city_York-Hanover, PA</th>\n",
       "      <th>city_Youngstown-Warren-Boardman, OH-PA</th>\n",
       "      <th>city_Yuba City, CA</th>\n",
       "      <th>city_Yuma, AZ</th>\n",
       "    </tr>\n",
       "  </thead>\n",
       "  <tbody>\n",
       "    <tr>\n",
       "      <th>count</th>\n",
       "      <td>5670.000000</td>\n",
       "      <td>5670.000000</td>\n",
       "      <td>5670.000000</td>\n",
       "      <td>5670.000000</td>\n",
       "      <td>5670.000000</td>\n",
       "      <td>5670.000000</td>\n",
       "      <td>5670.000000</td>\n",
       "      <td>5670.000000</td>\n",
       "      <td>5670.000000</td>\n",
       "      <td>5670.000000</td>\n",
       "      <td>...</td>\n",
       "      <td>5670.000000</td>\n",
       "      <td>5670.000000</td>\n",
       "      <td>5670.000000</td>\n",
       "      <td>5670.000000</td>\n",
       "      <td>5670.000000</td>\n",
       "      <td>5670.000000</td>\n",
       "      <td>5670.000000</td>\n",
       "      <td>5670.000000</td>\n",
       "      <td>5670.000000</td>\n",
       "      <td>5670.000000</td>\n",
       "    </tr>\n",
       "    <tr>\n",
       "      <th>mean</th>\n",
       "      <td>2016.953263</td>\n",
       "      <td>38.323986</td>\n",
       "      <td>0.001940</td>\n",
       "      <td>0.001940</td>\n",
       "      <td>0.001764</td>\n",
       "      <td>0.001940</td>\n",
       "      <td>0.001940</td>\n",
       "      <td>0.001940</td>\n",
       "      <td>0.001940</td>\n",
       "      <td>0.001940</td>\n",
       "      <td>...</td>\n",
       "      <td>0.001940</td>\n",
       "      <td>0.001940</td>\n",
       "      <td>0.001764</td>\n",
       "      <td>0.001940</td>\n",
       "      <td>0.001940</td>\n",
       "      <td>0.001940</td>\n",
       "      <td>0.001940</td>\n",
       "      <td>0.001940</td>\n",
       "      <td>0.001940</td>\n",
       "      <td>0.001940</td>\n",
       "    </tr>\n",
       "    <tr>\n",
       "      <th>std</th>\n",
       "      <td>3.148038</td>\n",
       "      <td>10.954869</td>\n",
       "      <td>0.044007</td>\n",
       "      <td>0.044007</td>\n",
       "      <td>0.041963</td>\n",
       "      <td>0.044007</td>\n",
       "      <td>0.044007</td>\n",
       "      <td>0.044007</td>\n",
       "      <td>0.044007</td>\n",
       "      <td>0.044007</td>\n",
       "      <td>...</td>\n",
       "      <td>0.044007</td>\n",
       "      <td>0.044007</td>\n",
       "      <td>0.041963</td>\n",
       "      <td>0.044007</td>\n",
       "      <td>0.044007</td>\n",
       "      <td>0.044007</td>\n",
       "      <td>0.044007</td>\n",
       "      <td>0.044007</td>\n",
       "      <td>0.044007</td>\n",
       "      <td>0.044007</td>\n",
       "    </tr>\n",
       "    <tr>\n",
       "      <th>min</th>\n",
       "      <td>2012.000000</td>\n",
       "      <td>0.000000</td>\n",
       "      <td>0.000000</td>\n",
       "      <td>0.000000</td>\n",
       "      <td>0.000000</td>\n",
       "      <td>0.000000</td>\n",
       "      <td>0.000000</td>\n",
       "      <td>0.000000</td>\n",
       "      <td>0.000000</td>\n",
       "      <td>0.000000</td>\n",
       "      <td>...</td>\n",
       "      <td>0.000000</td>\n",
       "      <td>0.000000</td>\n",
       "      <td>0.000000</td>\n",
       "      <td>0.000000</td>\n",
       "      <td>0.000000</td>\n",
       "      <td>0.000000</td>\n",
       "      <td>0.000000</td>\n",
       "      <td>0.000000</td>\n",
       "      <td>0.000000</td>\n",
       "      <td>0.000000</td>\n",
       "    </tr>\n",
       "    <tr>\n",
       "      <th>25%</th>\n",
       "      <td>2014.000000</td>\n",
       "      <td>34.000000</td>\n",
       "      <td>0.000000</td>\n",
       "      <td>0.000000</td>\n",
       "      <td>0.000000</td>\n",
       "      <td>0.000000</td>\n",
       "      <td>0.000000</td>\n",
       "      <td>0.000000</td>\n",
       "      <td>0.000000</td>\n",
       "      <td>0.000000</td>\n",
       "      <td>...</td>\n",
       "      <td>0.000000</td>\n",
       "      <td>0.000000</td>\n",
       "      <td>0.000000</td>\n",
       "      <td>0.000000</td>\n",
       "      <td>0.000000</td>\n",
       "      <td>0.000000</td>\n",
       "      <td>0.000000</td>\n",
       "      <td>0.000000</td>\n",
       "      <td>0.000000</td>\n",
       "      <td>0.000000</td>\n",
       "    </tr>\n",
       "    <tr>\n",
       "      <th>50%</th>\n",
       "      <td>2017.000000</td>\n",
       "      <td>39.000000</td>\n",
       "      <td>0.000000</td>\n",
       "      <td>0.000000</td>\n",
       "      <td>0.000000</td>\n",
       "      <td>0.000000</td>\n",
       "      <td>0.000000</td>\n",
       "      <td>0.000000</td>\n",
       "      <td>0.000000</td>\n",
       "      <td>0.000000</td>\n",
       "      <td>...</td>\n",
       "      <td>0.000000</td>\n",
       "      <td>0.000000</td>\n",
       "      <td>0.000000</td>\n",
       "      <td>0.000000</td>\n",
       "      <td>0.000000</td>\n",
       "      <td>0.000000</td>\n",
       "      <td>0.000000</td>\n",
       "      <td>0.000000</td>\n",
       "      <td>0.000000</td>\n",
       "      <td>0.000000</td>\n",
       "    </tr>\n",
       "    <tr>\n",
       "      <th>75%</th>\n",
       "      <td>2020.000000</td>\n",
       "      <td>44.000000</td>\n",
       "      <td>0.000000</td>\n",
       "      <td>0.000000</td>\n",
       "      <td>0.000000</td>\n",
       "      <td>0.000000</td>\n",
       "      <td>0.000000</td>\n",
       "      <td>0.000000</td>\n",
       "      <td>0.000000</td>\n",
       "      <td>0.000000</td>\n",
       "      <td>...</td>\n",
       "      <td>0.000000</td>\n",
       "      <td>0.000000</td>\n",
       "      <td>0.000000</td>\n",
       "      <td>0.000000</td>\n",
       "      <td>0.000000</td>\n",
       "      <td>0.000000</td>\n",
       "      <td>0.000000</td>\n",
       "      <td>0.000000</td>\n",
       "      <td>0.000000</td>\n",
       "      <td>0.000000</td>\n",
       "    </tr>\n",
       "    <tr>\n",
       "      <th>max</th>\n",
       "      <td>2022.000000</td>\n",
       "      <td>123.000000</td>\n",
       "      <td>1.000000</td>\n",
       "      <td>1.000000</td>\n",
       "      <td>1.000000</td>\n",
       "      <td>1.000000</td>\n",
       "      <td>1.000000</td>\n",
       "      <td>1.000000</td>\n",
       "      <td>1.000000</td>\n",
       "      <td>1.000000</td>\n",
       "      <td>...</td>\n",
       "      <td>1.000000</td>\n",
       "      <td>1.000000</td>\n",
       "      <td>1.000000</td>\n",
       "      <td>1.000000</td>\n",
       "      <td>1.000000</td>\n",
       "      <td>1.000000</td>\n",
       "      <td>1.000000</td>\n",
       "      <td>1.000000</td>\n",
       "      <td>1.000000</td>\n",
       "      <td>1.000000</td>\n",
       "    </tr>\n",
       "  </tbody>\n",
       "</table>\n",
       "<p>8 rows × 546 columns</p>\n",
       "</div>"
      ],
      "text/plain": [
       "              Year   Median AQI  city_Aberdeen, SD  city_Aberdeen, WA  \\\n",
       "count  5670.000000  5670.000000        5670.000000        5670.000000   \n",
       "mean   2016.953263    38.323986           0.001940           0.001940   \n",
       "std       3.148038    10.954869           0.044007           0.044007   \n",
       "min    2012.000000     0.000000           0.000000           0.000000   \n",
       "25%    2014.000000    34.000000           0.000000           0.000000   \n",
       "50%    2017.000000    39.000000           0.000000           0.000000   \n",
       "75%    2020.000000    44.000000           0.000000           0.000000   \n",
       "max    2022.000000   123.000000           1.000000           1.000000   \n",
       "\n",
       "       city_Adjuntas, PR  city_Adrian, MI  city_Akron, OH  city_Albany, GA  \\\n",
       "count        5670.000000      5670.000000     5670.000000      5670.000000   \n",
       "mean            0.001764         0.001940        0.001940         0.001940   \n",
       "std             0.041963         0.044007        0.044007         0.044007   \n",
       "min             0.000000         0.000000        0.000000         0.000000   \n",
       "25%             0.000000         0.000000        0.000000         0.000000   \n",
       "50%             0.000000         0.000000        0.000000         0.000000   \n",
       "75%             0.000000         0.000000        0.000000         0.000000   \n",
       "max             1.000000         1.000000        1.000000         1.000000   \n",
       "\n",
       "       city_Albany, OR  city_Albany-Schenectady-Troy, NY  ...  \\\n",
       "count      5670.000000                       5670.000000  ...   \n",
       "mean          0.001940                          0.001940  ...   \n",
       "std           0.044007                          0.044007  ...   \n",
       "min           0.000000                          0.000000  ...   \n",
       "25%           0.000000                          0.000000  ...   \n",
       "50%           0.000000                          0.000000  ...   \n",
       "75%           0.000000                          0.000000  ...   \n",
       "max           1.000000                          1.000000  ...   \n",
       "\n",
       "       city_Wilmington, OH  city_Winchester, VA-WV  city_Winona, MN  \\\n",
       "count          5670.000000             5670.000000      5670.000000   \n",
       "mean              0.001940                0.001940         0.001764   \n",
       "std               0.044007                0.044007         0.041963   \n",
       "min               0.000000                0.000000         0.000000   \n",
       "25%               0.000000                0.000000         0.000000   \n",
       "50%               0.000000                0.000000         0.000000   \n",
       "75%               0.000000                0.000000         0.000000   \n",
       "max               1.000000                1.000000         1.000000   \n",
       "\n",
       "       city_Winston-Salem, NC  city_Worcester, MA-CT  city_Yakima, WA  \\\n",
       "count             5670.000000            5670.000000      5670.000000   \n",
       "mean                 0.001940               0.001940         0.001940   \n",
       "std                  0.044007               0.044007         0.044007   \n",
       "min                  0.000000               0.000000         0.000000   \n",
       "25%                  0.000000               0.000000         0.000000   \n",
       "50%                  0.000000               0.000000         0.000000   \n",
       "75%                  0.000000               0.000000         0.000000   \n",
       "max                  1.000000               1.000000         1.000000   \n",
       "\n",
       "       city_York-Hanover, PA  city_Youngstown-Warren-Boardman, OH-PA  \\\n",
       "count            5670.000000                             5670.000000   \n",
       "mean                0.001940                                0.001940   \n",
       "std                 0.044007                                0.044007   \n",
       "min                 0.000000                                0.000000   \n",
       "25%                 0.000000                                0.000000   \n",
       "50%                 0.000000                                0.000000   \n",
       "75%                 0.000000                                0.000000   \n",
       "max                 1.000000                                1.000000   \n",
       "\n",
       "       city_Yuba City, CA  city_Yuma, AZ  \n",
       "count         5670.000000    5670.000000  \n",
       "mean             0.001940       0.001940  \n",
       "std              0.044007       0.044007  \n",
       "min              0.000000       0.000000  \n",
       "25%              0.000000       0.000000  \n",
       "50%              0.000000       0.000000  \n",
       "75%              0.000000       0.000000  \n",
       "max              1.000000       1.000000  \n",
       "\n",
       "[8 rows x 546 columns]"
      ]
     },
     "execution_count": 216,
     "metadata": {},
     "output_type": "execute_result"
    }
   ],
   "source": [
    "#confirm the cities have been broken out\n",
    "combined_AQI.describe()"
   ]
  },
  {
   "cell_type": "code",
   "execution_count": 193,
   "id": "0ec3bd6f",
   "metadata": {},
   "outputs": [
    {
     "name": "stdout",
     "output_type": "stream",
     "text": [
      "<class 'pandas.core.frame.DataFrame'>\n",
      "Int64Index: 5670 entries, 0 to 5679\n",
      "Columns: 546 entries, Year to city_Yuma, AZ\n",
      "dtypes: float64(1), int64(1), uint8(544)\n",
      "memory usage: 3.1 MB\n"
     ]
    }
   ],
   "source": [
    "combined_AQI.info()"
   ]
  },
  {
   "cell_type": "code",
   "execution_count": 194,
   "id": "c45b0fd9",
   "metadata": {
    "scrolled": true
   },
   "outputs": [],
   "source": [
    "# Break into targets and features\n",
    "X = combined_AQI.drop(\"Median AQI\", axis=1)\n",
    "y = combined_AQI['Median AQI']"
   ]
  },
  {
   "cell_type": "code",
   "execution_count": 195,
   "id": "e7c28d2a",
   "metadata": {},
   "outputs": [
    {
     "data": {
      "text/plain": [
       "Index(['Year', 'city_Aberdeen, SD', 'city_Aberdeen, WA', 'city_Adjuntas, PR',\n",
       "       'city_Adrian, MI', 'city_Akron, OH', 'city_Albany, GA',\n",
       "       'city_Albany, OR', 'city_Albany-Schenectady-Troy, NY',\n",
       "       'city_Albuquerque, NM',\n",
       "       ...\n",
       "       'city_Wilmington, OH', 'city_Winchester, VA-WV', 'city_Winona, MN',\n",
       "       'city_Winston-Salem, NC', 'city_Worcester, MA-CT', 'city_Yakima, WA',\n",
       "       'city_York-Hanover, PA', 'city_Youngstown-Warren-Boardman, OH-PA',\n",
       "       'city_Yuba City, CA', 'city_Yuma, AZ'],\n",
       "      dtype='object', length=545)"
      ]
     },
     "execution_count": 195,
     "metadata": {},
     "output_type": "execute_result"
    }
   ],
   "source": [
    "# view columns\n",
    "X.columns"
   ]
  },
  {
   "cell_type": "code",
   "execution_count": 196,
   "id": "cec7e78b",
   "metadata": {},
   "outputs": [
    {
     "data": {
      "text/plain": [
       "38.0     375\n",
       "40.0     359\n",
       "44.0     351\n",
       "39.0     294\n",
       "43.0     288\n",
       "        ... \n",
       "83.0       1\n",
       "87.0       1\n",
       "90.0       1\n",
       "100.0      1\n",
       "0.0        1\n",
       "Name: Median AQI, Length: 85, dtype: int64"
      ]
     },
     "execution_count": 196,
     "metadata": {},
     "output_type": "execute_result"
    }
   ],
   "source": [
    "# Check the balance of our target values\n",
    "y.value_counts()"
   ]
  },
  {
   "cell_type": "code",
   "execution_count": 197,
   "id": "989dbdb7",
   "metadata": {},
   "outputs": [
    {
     "data": {
      "text/plain": [
       "(4252, 545)"
      ]
     },
     "execution_count": 197,
     "metadata": {},
     "output_type": "execute_result"
    }
   ],
   "source": [
    "#import linear regression dependencies\n",
    "#from sklearn.model_selection import train_test_split\n",
    "#X_train, X_test, y_train, y_test = train_test_split(X, y, test_size=0.3, random_state=1)\n",
    "from sklearn.model_selection import train_test_split\n",
    "X_train, X_test, y_train, y_test = train_test_split(X, y, random_state=1)\n",
    "X_train.shape"
   ]
  },
  {
   "cell_type": "code",
   "execution_count": 198,
   "id": "946c90e9",
   "metadata": {},
   "outputs": [
    {
     "data": {
      "text/html": [
       "<style>#sk-container-id-8 {color: black;background-color: white;}#sk-container-id-8 pre{padding: 0;}#sk-container-id-8 div.sk-toggleable {background-color: white;}#sk-container-id-8 label.sk-toggleable__label {cursor: pointer;display: block;width: 100%;margin-bottom: 0;padding: 0.3em;box-sizing: border-box;text-align: center;}#sk-container-id-8 label.sk-toggleable__label-arrow:before {content: \"▸\";float: left;margin-right: 0.25em;color: #696969;}#sk-container-id-8 label.sk-toggleable__label-arrow:hover:before {color: black;}#sk-container-id-8 div.sk-estimator:hover label.sk-toggleable__label-arrow:before {color: black;}#sk-container-id-8 div.sk-toggleable__content {max-height: 0;max-width: 0;overflow: hidden;text-align: left;background-color: #f0f8ff;}#sk-container-id-8 div.sk-toggleable__content pre {margin: 0.2em;color: black;border-radius: 0.25em;background-color: #f0f8ff;}#sk-container-id-8 input.sk-toggleable__control:checked~div.sk-toggleable__content {max-height: 200px;max-width: 100%;overflow: auto;}#sk-container-id-8 input.sk-toggleable__control:checked~label.sk-toggleable__label-arrow:before {content: \"▾\";}#sk-container-id-8 div.sk-estimator input.sk-toggleable__control:checked~label.sk-toggleable__label {background-color: #d4ebff;}#sk-container-id-8 div.sk-label input.sk-toggleable__control:checked~label.sk-toggleable__label {background-color: #d4ebff;}#sk-container-id-8 input.sk-hidden--visually {border: 0;clip: rect(1px 1px 1px 1px);clip: rect(1px, 1px, 1px, 1px);height: 1px;margin: -1px;overflow: hidden;padding: 0;position: absolute;width: 1px;}#sk-container-id-8 div.sk-estimator {font-family: monospace;background-color: #f0f8ff;border: 1px dotted black;border-radius: 0.25em;box-sizing: border-box;margin-bottom: 0.5em;}#sk-container-id-8 div.sk-estimator:hover {background-color: #d4ebff;}#sk-container-id-8 div.sk-parallel-item::after {content: \"\";width: 100%;border-bottom: 1px solid gray;flex-grow: 1;}#sk-container-id-8 div.sk-label:hover label.sk-toggleable__label {background-color: #d4ebff;}#sk-container-id-8 div.sk-serial::before {content: \"\";position: absolute;border-left: 1px solid gray;box-sizing: border-box;top: 0;bottom: 0;left: 50%;z-index: 0;}#sk-container-id-8 div.sk-serial {display: flex;flex-direction: column;align-items: center;background-color: white;padding-right: 0.2em;padding-left: 0.2em;position: relative;}#sk-container-id-8 div.sk-item {position: relative;z-index: 1;}#sk-container-id-8 div.sk-parallel {display: flex;align-items: stretch;justify-content: center;background-color: white;position: relative;}#sk-container-id-8 div.sk-item::before, #sk-container-id-8 div.sk-parallel-item::before {content: \"\";position: absolute;border-left: 1px solid gray;box-sizing: border-box;top: 0;bottom: 0;left: 50%;z-index: -1;}#sk-container-id-8 div.sk-parallel-item {display: flex;flex-direction: column;z-index: 1;position: relative;background-color: white;}#sk-container-id-8 div.sk-parallel-item:first-child::after {align-self: flex-end;width: 50%;}#sk-container-id-8 div.sk-parallel-item:last-child::after {align-self: flex-start;width: 50%;}#sk-container-id-8 div.sk-parallel-item:only-child::after {width: 0;}#sk-container-id-8 div.sk-dashed-wrapped {border: 1px dashed gray;margin: 0 0.4em 0.5em 0.4em;box-sizing: border-box;padding-bottom: 0.4em;background-color: white;}#sk-container-id-8 div.sk-label label {font-family: monospace;font-weight: bold;display: inline-block;line-height: 1.2em;}#sk-container-id-8 div.sk-label-container {text-align: center;}#sk-container-id-8 div.sk-container {/* jupyter's `normalize.less` sets `[hidden] { display: none; }` but bootstrap.min.css set `[hidden] { display: none !important; }` so we also need the `!important` here to be able to override the default hidden behavior on the sphinx rendered scikit-learn.org. See: https://github.com/scikit-learn/scikit-learn/issues/21755 */display: inline-block !important;position: relative;}#sk-container-id-8 div.sk-text-repr-fallback {display: none;}</style><div id=\"sk-container-id-8\" class=\"sk-top-container\"><div class=\"sk-text-repr-fallback\"><pre>LinearRegression()</pre><b>In a Jupyter environment, please rerun this cell to show the HTML representation or trust the notebook. <br />On GitHub, the HTML representation is unable to render, please try loading this page with nbviewer.org.</b></div><div class=\"sk-container\" hidden><div class=\"sk-item\"><div class=\"sk-estimator sk-toggleable\"><input class=\"sk-toggleable__control sk-hidden--visually\" id=\"sk-estimator-id-8\" type=\"checkbox\" checked><label for=\"sk-estimator-id-8\" class=\"sk-toggleable__label sk-toggleable__label-arrow\">LinearRegression</label><div class=\"sk-toggleable__content\"><pre>LinearRegression()</pre></div></div></div></div></div>"
      ],
      "text/plain": [
       "LinearRegression()"
      ]
     },
     "execution_count": 198,
     "metadata": {},
     "output_type": "execute_result"
    }
   ],
   "source": [
    "#training linear regression\n",
    "from sklearn.linear_model import LinearRegression\n",
    "lin_reg = LinearRegression()\n",
    "lin_reg.fit(X_train, y_train)"
   ]
  },
  {
   "cell_type": "code",
   "execution_count": 223,
   "id": "2356da92",
   "metadata": {},
   "outputs": [
    {
     "data": {
      "text/plain": [
       "Index(['Year', 'city_Aberdeen, SD', 'city_Aberdeen, WA', 'city_Adjuntas, PR',\n",
       "       'city_Adrian, MI', 'city_Akron, OH', 'city_Albany, GA',\n",
       "       'city_Albany, OR', 'city_Albany-Schenectady-Troy, NY',\n",
       "       'city_Albuquerque, NM',\n",
       "       ...\n",
       "       'city_Wilmington, OH', 'city_Winchester, VA-WV', 'city_Winona, MN',\n",
       "       'city_Winston-Salem, NC', 'city_Worcester, MA-CT', 'city_Yakima, WA',\n",
       "       'city_York-Hanover, PA', 'city_Youngstown-Warren-Boardman, OH-PA',\n",
       "       'city_Yuba City, CA', 'city_Yuma, AZ'],\n",
       "      dtype='object', length=545)"
      ]
     },
     "execution_count": 223,
     "metadata": {},
     "output_type": "execute_result"
    }
   ],
   "source": [
    "# View data columns\n",
    "X.columns"
   ]
  },
  {
   "cell_type": "code",
   "execution_count": 227,
   "id": "e9317b2e",
   "metadata": {},
   "outputs": [
    {
     "data": {
      "text/plain": [
       "Year                                      2021\n",
       "city_Aberdeen, SD                            0\n",
       "city_Aberdeen, WA                            0\n",
       "city_Adjuntas, PR                            0\n",
       "city_Adrian, MI                              0\n",
       "                                          ... \n",
       "city_Yakima, WA                              0\n",
       "city_York-Hanover, PA                        0\n",
       "city_Youngstown-Warren-Boardman, OH-PA       0\n",
       "city_Yuba City, CA                           0\n",
       "city_Yuma, AZ                                0\n",
       "Name: 0, Length: 545, dtype: int64"
      ]
     },
     "execution_count": 227,
     "metadata": {},
     "output_type": "execute_result"
    }
   ],
   "source": [
    "# matched to coefficients of the numbers below\n",
    "X.iloc[0]"
   ]
  },
  {
   "cell_type": "code",
   "execution_count": 199,
   "id": "286d6afe",
   "metadata": {},
   "outputs": [
    {
     "name": "stdout",
     "output_type": "stream",
     "text": [
      "Coefficients: \n",
      " [-3.50058521e-01 -8.09538946e+10 -8.09538946e+10 -8.09538946e+10\n",
      " -8.09538946e+10 -8.09538946e+10 -8.09538946e+10 -8.09538946e+10\n",
      " -8.09538946e+10 -8.09538946e+10 -8.09538946e+10 -8.09538946e+10\n",
      " -8.09538946e+10 -8.09538946e+10 -8.09538946e+10 -8.09538946e+10\n",
      " -8.09538946e+10 -8.09538946e+10 -8.09538946e+10 -8.09538946e+10\n",
      " -8.09538946e+10 -8.09538946e+10 -8.09538946e+10 -8.09538946e+10\n",
      " -8.09538946e+10 -8.09538946e+10 -8.09538946e+10 -8.09538946e+10\n",
      " -8.09538946e+10 -8.09538946e+10 -8.09538946e+10 -8.09538946e+10\n",
      " -8.09538946e+10 -8.09538946e+10 -8.09538946e+10 -8.09538946e+10\n",
      " -8.09538946e+10 -8.09538946e+10 -8.09538946e+10 -8.09538946e+10\n",
      " -8.09538946e+10 -8.09538946e+10 -8.09538946e+10 -8.09538946e+10\n",
      " -8.09538946e+10 -8.09538946e+10 -8.09538946e+10 -8.09538946e+10\n",
      " -8.09538946e+10 -8.09538946e+10 -8.09538946e+10 -8.09538946e+10\n",
      " -8.09538946e+10 -8.09538946e+10 -8.09538946e+10 -8.09538946e+10\n",
      " -8.09538946e+10 -8.09538946e+10 -8.09538946e+10 -8.09538946e+10\n",
      " -8.09538946e+10 -8.09538946e+10 -8.09538946e+10 -8.09538946e+10\n",
      " -8.09538946e+10 -8.09538946e+10 -8.09538946e+10 -8.09538946e+10\n",
      " -8.09538946e+10 -8.09538946e+10 -8.09538946e+10 -8.09538946e+10\n",
      " -8.09538946e+10 -8.09538946e+10 -8.09538946e+10 -8.09538946e+10\n",
      " -8.09538946e+10 -8.09538946e+10 -8.09538946e+10 -8.09538946e+10\n",
      " -8.09538946e+10 -8.09538946e+10 -8.09538946e+10 -8.09538946e+10\n",
      " -8.09538946e+10 -8.09538946e+10 -8.09538946e+10 -8.09538946e+10\n",
      " -8.09538946e+10 -8.09538946e+10 -8.09538946e+10 -8.09538946e+10\n",
      " -8.09538946e+10 -8.09538946e+10 -8.09538946e+10 -8.09538946e+10\n",
      " -8.09538946e+10 -8.09538946e+10 -8.09538946e+10 -8.09538946e+10\n",
      " -8.09538946e+10 -8.09538946e+10 -8.09538946e+10 -8.09538946e+10\n",
      " -8.09538946e+10 -8.09538946e+10 -8.09538946e+10 -8.09538946e+10\n",
      " -8.09538946e+10 -8.09538946e+10 -8.09538946e+10 -8.09538946e+10\n",
      " -8.09538946e+10 -8.09538946e+10 -8.09538946e+10 -8.09538946e+10\n",
      " -8.09538946e+10 -8.09538946e+10 -8.09538946e+10 -8.09538946e+10\n",
      " -8.09538946e+10 -8.09538946e+10 -8.09538946e+10 -8.09538946e+10\n",
      " -8.09538946e+10 -8.09538946e+10 -8.09538946e+10 -8.09538946e+10\n",
      " -8.09538946e+10 -8.09538946e+10 -8.09538946e+10 -8.09538946e+10\n",
      " -8.09538946e+10 -8.09538946e+10 -8.09538946e+10 -8.09538946e+10\n",
      " -8.09538946e+10 -8.09538946e+10 -8.09538946e+10 -8.09538946e+10\n",
      " -8.09538946e+10 -8.09538946e+10 -8.09538946e+10 -8.09538946e+10\n",
      " -8.09538946e+10 -8.09538946e+10 -8.09538946e+10 -8.09538946e+10\n",
      " -8.09538946e+10 -8.09538946e+10 -8.09538946e+10 -8.09538946e+10\n",
      " -8.09538946e+10 -8.09538946e+10 -8.09538946e+10 -8.09538946e+10\n",
      " -8.09538946e+10 -8.09538946e+10 -8.09538946e+10 -8.09538946e+10\n",
      " -8.09538946e+10 -8.09538946e+10 -8.09538946e+10 -8.09538946e+10\n",
      " -8.09538946e+10 -8.09538946e+10 -8.09538946e+10 -8.09538946e+10\n",
      " -8.09538946e+10 -8.09538946e+10 -8.09538946e+10 -8.09538946e+10\n",
      " -8.09538946e+10 -8.09538946e+10 -8.09538946e+10 -8.09538946e+10\n",
      " -8.09538946e+10 -8.09538946e+10 -8.09538946e+10 -8.09538946e+10\n",
      " -8.09538946e+10 -8.09538946e+10 -8.09538946e+10 -8.09538946e+10\n",
      " -8.09538946e+10 -8.09538946e+10 -8.09538946e+10 -8.09538946e+10\n",
      " -8.09538946e+10 -8.09538946e+10 -8.09538946e+10 -8.09538946e+10\n",
      " -8.09538946e+10 -8.09538946e+10 -8.09538946e+10 -8.09538946e+10\n",
      " -8.09538946e+10 -8.09538946e+10 -8.09538946e+10 -8.09538946e+10\n",
      " -8.09538946e+10 -8.09538946e+10 -8.09538946e+10 -8.09538946e+10\n",
      " -8.09538946e+10 -8.09538946e+10 -8.09538946e+10 -8.09538946e+10\n",
      " -8.09538946e+10 -8.09538946e+10 -8.09538946e+10 -8.09538946e+10\n",
      " -8.09538946e+10 -8.09538946e+10 -8.09538946e+10 -8.09538946e+10\n",
      " -8.09538946e+10 -8.09538946e+10 -8.09538946e+10 -8.09538946e+10\n",
      " -8.09538946e+10 -8.09538946e+10 -8.09538946e+10 -8.09538946e+10\n",
      " -8.09538946e+10 -8.09538946e+10 -8.09538946e+10 -8.09538946e+10\n",
      " -8.09538946e+10 -8.09538946e+10 -8.09538946e+10 -8.09538946e+10\n",
      " -8.09538946e+10 -8.09538946e+10 -8.09538946e+10 -8.09538946e+10\n",
      " -8.09538946e+10 -8.09538946e+10 -8.09538946e+10 -8.09538946e+10\n",
      " -8.09538946e+10 -8.09538946e+10 -8.09538946e+10 -8.09538946e+10\n",
      " -8.09538946e+10 -8.09538946e+10 -1.33226763e-14 -8.09538946e+10\n",
      " -8.09538946e+10 -8.09538946e+10 -8.09538946e+10 -8.09538946e+10\n",
      " -8.09538946e+10 -8.09538946e+10 -8.09538946e+10 -8.09538946e+10\n",
      " -8.09538946e+10 -8.09538946e+10 -8.09538946e+10 -8.09538946e+10\n",
      " -8.09538946e+10 -8.09538946e+10 -8.09538946e+10 -8.09538946e+10\n",
      " -8.09538946e+10 -8.09538946e+10 -8.09538946e+10 -8.09538946e+10\n",
      " -8.09538946e+10 -8.09538946e+10 -8.09538946e+10 -8.09538946e+10\n",
      " -8.09538946e+10 -8.09538946e+10 -8.09538946e+10 -8.09538946e+10\n",
      " -8.09538946e+10 -8.09538946e+10 -8.09538946e+10 -8.09538946e+10\n",
      " -8.09538946e+10 -8.09538946e+10 -8.09538946e+10 -8.09538946e+10\n",
      " -8.09538946e+10 -8.09538946e+10 -8.09538946e+10 -8.09538946e+10\n",
      " -8.09538946e+10 -8.09538946e+10 -8.09538946e+10 -8.09538946e+10\n",
      " -8.09538946e+10 -8.09538946e+10 -8.09538946e+10 -8.09538946e+10\n",
      " -8.09538946e+10 -8.09538946e+10 -8.09538946e+10 -8.09538946e+10\n",
      " -8.09538946e+10 -8.09538946e+10 -8.09538946e+10 -8.09538946e+10\n",
      " -8.09538946e+10 -8.09538946e+10 -8.09538946e+10 -8.09538946e+10\n",
      " -8.09538946e+10 -8.09538946e+10 -8.09538946e+10 -8.09538946e+10\n",
      " -8.09538946e+10 -8.09538946e+10 -8.09538946e+10 -8.09538946e+10\n",
      " -8.09538946e+10 -8.09538946e+10 -8.09538946e+10 -8.09538946e+10\n",
      " -8.09538946e+10 -8.09538946e+10 -8.09538946e+10 -8.09538946e+10\n",
      " -8.09538946e+10 -8.09538946e+10 -8.09538946e+10 -8.09538946e+10\n",
      " -8.09538946e+10 -8.09538946e+10 -8.09538946e+10 -8.09538946e+10\n",
      " -8.09538946e+10 -8.09538946e+10 -8.09538946e+10 -8.09538946e+10\n",
      " -8.09538946e+10 -8.09538946e+10 -8.09538946e+10 -8.09538946e+10\n",
      " -8.09538946e+10 -8.09538946e+10 -8.09538946e+10 -8.09538946e+10\n",
      " -8.09538946e+10 -8.09538946e+10 -8.09538946e+10 -8.09538946e+10\n",
      " -8.09538946e+10 -8.09538946e+10 -8.09538946e+10 -8.09538946e+10\n",
      " -8.09538946e+10 -8.09538946e+10 -8.09538946e+10 -8.09538946e+10\n",
      " -8.09538946e+10 -8.09538946e+10 -8.09538946e+10 -8.09538946e+10\n",
      " -8.09538946e+10 -8.09538946e+10 -8.09538946e+10 -8.09538946e+10\n",
      " -8.09538946e+10 -8.09538946e+10 -8.09538946e+10 -8.09538946e+10\n",
      " -8.09538946e+10 -8.09538946e+10 -8.09538946e+10 -8.09538946e+10\n",
      " -8.09538946e+10 -8.09538946e+10 -8.09538946e+10 -8.09538946e+10\n",
      " -8.09538946e+10 -8.09538946e+10 -8.09538946e+10 -8.09538946e+10\n",
      " -8.09538946e+10 -8.09538946e+10 -8.09538946e+10 -8.09538946e+10\n",
      " -8.09538946e+10 -8.09538946e+10 -8.09538946e+10 -8.09538946e+10\n",
      " -8.09538946e+10 -8.09538946e+10 -8.09538946e+10 -8.09538946e+10\n",
      " -8.09538946e+10 -8.09538946e+10 -8.09538946e+10 -8.09538946e+10\n",
      " -8.09538946e+10 -8.09538946e+10 -8.09538946e+10 -8.09538946e+10\n",
      " -8.09538946e+10 -8.09538946e+10 -8.09538946e+10 -8.09538946e+10\n",
      " -8.09538946e+10 -8.09538946e+10 -8.09538946e+10 -8.09538946e+10\n",
      " -8.09538945e+10 -8.09538946e+10 -8.09538946e+10 -8.09538946e+10\n",
      " -8.09538946e+10 -8.09538946e+10 -8.09538946e+10 -8.09538946e+10\n",
      " -8.09538946e+10 -8.09538946e+10 -8.09538946e+10 -8.09538946e+10\n",
      " -8.09538946e+10 -8.09538946e+10 -8.09538946e+10 -8.09538946e+10\n",
      " -8.09538946e+10 -8.09538946e+10 -8.09538946e+10 -8.09538946e+10\n",
      " -8.09538946e+10 -8.09538946e+10 -8.09538946e+10 -8.09538946e+10\n",
      " -8.09538946e+10 -8.09538946e+10 -8.09538946e+10 -8.09538946e+10\n",
      " -8.09538946e+10 -8.09538946e+10 -8.09538946e+10 -8.09538946e+10\n",
      " -8.09538946e+10 -8.09538946e+10 -8.09538946e+10 -8.09538946e+10\n",
      " -8.09538946e+10 -8.09538946e+10 -8.09538946e+10 -8.09538946e+10\n",
      " -8.09538946e+10 -8.09538946e+10 -8.09538946e+10 -8.09538946e+10\n",
      " -8.09538946e+10 -8.09538946e+10 -8.09538946e+10 -8.09538946e+10\n",
      " -8.09538946e+10 -8.09538946e+10 -8.09538946e+10 -8.09538946e+10\n",
      " -8.09538946e+10 -8.09538946e+10 -8.09538946e+10 -8.09538946e+10\n",
      " -8.09538946e+10 -8.09538946e+10 -8.09538946e+10 -8.09538946e+10\n",
      " -8.09538946e+10 -8.09538946e+10 -8.09538946e+10 -8.09538946e+10\n",
      " -8.09538946e+10 -8.09538946e+10 -8.09538946e+10 -8.09538946e+10\n",
      " -8.09538946e+10 -8.09538946e+10 -8.09538946e+10 -8.09538946e+10\n",
      " -8.09538946e+10 -8.09538946e+10 -8.09538946e+10 -8.09538946e+10\n",
      " -8.09538946e+10 -8.09538946e+10 -8.09538946e+10 -8.09538946e+10\n",
      " -8.09538946e+10 -8.09538946e+10 -8.09538946e+10 -8.09538946e+10\n",
      " -8.09538946e+10 -8.09538946e+10 -8.09538946e+10 -8.09538946e+10\n",
      " -8.09538946e+10 -8.09538946e+10 -8.09538946e+10 -8.09538946e+10\n",
      " -8.09538946e+10 -8.09538946e+10 -8.09538946e+10 -8.09538946e+10\n",
      " -8.09538946e+10 -8.09538946e+10 -8.09538946e+10 -8.09538946e+10\n",
      " -8.09538946e+10 -8.09538946e+10 -8.09538946e+10 -8.09538946e+10\n",
      " -8.09538946e+10 -8.09538946e+10 -8.09538946e+10 -8.09538946e+10\n",
      " -8.09538946e+10 -8.09538946e+10 -8.09538946e+10 -8.09538946e+10\n",
      " -8.09538946e+10 -8.09538946e+10 -8.09538946e+10 -8.09538946e+10\n",
      " -8.09538946e+10 -8.09538946e+10 -8.09538946e+10 -8.09538946e+10\n",
      " -8.09538946e+10 -8.09538946e+10 -8.09538946e+10 -8.09538946e+10\n",
      " -8.09538946e+10 -8.09538946e+10 -8.09538946e+10 -8.09538946e+10\n",
      " -8.09538946e+10 -8.09538946e+10 -8.09538946e+10 -8.09538946e+10\n",
      " -8.09538946e+10 -8.09538946e+10 -8.09538946e+10 -8.09538946e+10\n",
      " -8.09538946e+10]\n"
     ]
    }
   ],
   "source": [
    "#print the coefficients of the model\n",
    "print('Coefficients: \\n', lin_reg.coef_)"
   ]
  },
  {
   "cell_type": "code",
   "execution_count": 200,
   "id": "841661f3",
   "metadata": {},
   "outputs": [],
   "source": [
    "#predict X_test set from data\n",
    "predictions = lin_reg.predict(X_test)"
   ]
  },
  {
   "cell_type": "code",
   "execution_count": 201,
   "id": "125ecea7",
   "metadata": {},
   "outputs": [
    {
     "data": {
      "text/plain": [
       "(1418,)"
      ]
     },
     "execution_count": 201,
     "metadata": {},
     "output_type": "execute_result"
    }
   ],
   "source": [
    "#check size\n",
    "y_test.shape"
   ]
  },
  {
   "cell_type": "code",
   "execution_count": 202,
   "id": "f3a6df71",
   "metadata": {},
   "outputs": [
    {
     "data": {
      "text/plain": [
       "Text(0, 0.5, 'Predicted Y')"
      ]
     },
     "execution_count": 202,
     "metadata": {},
     "output_type": "execute_result"
    },
    {
     "data": {
      "image/png": "[encoded data removed]",
      "text/plain": [
       "<Figure size 432x288 with 1 Axes>"
      ]
     },
     "metadata": {
      "needs_background": "light"
     },
     "output_type": "display_data"
    }
   ],
   "source": [
    "#real test values versus predicted values\n",
    "plt.scatter(y_test, predictions)\n",
    "plt.xlabel('Y_test')\n",
    "plt.ylabel('Predicted Y')"
   ]
  },
  {
   "cell_type": "code",
   "execution_count": 203,
   "id": "580c5799",
   "metadata": {},
   "outputs": [
    {
     "name": "stdout",
     "output_type": "stream",
     "text": [
      "MAE: 114180389.99378651\n",
      "MSE: 9.243347041017346e+18\n",
      "RMSE: 3040287328.694008\n"
     ]
    }
   ],
   "source": [
    "#evaluate the model\n",
    "from sklearn import metrics\n",
    "\n",
    "print('MAE:', metrics.mean_absolute_error(y_test, predictions))\n",
    "print('MSE:', metrics.mean_squared_error(y_test, predictions))\n",
    "print('RMSE:', np.sqrt(metrics.mean_squared_error(y_test, predictions)))"
   ]
  },
  {
   "cell_type": "code",
   "execution_count": 204,
   "id": "be690694",
   "metadata": {},
   "outputs": [
    {
     "data": {
      "image/png": "[encoded data removed]",
      "text/plain": [
       "<Figure size 432x288 with 1 Axes>"
      ]
     },
     "metadata": {
      "needs_background": "light"
     },
     "output_type": "display_data"
    }
   ],
   "source": [
    "#check for distribution\n",
    "plt.hist((y_test-predictions),bins=50);"
   ]
  },
  {
   "cell_type": "code",
   "execution_count": 282,
   "id": "9917de8e",
   "metadata": {},
   "outputs": [
    {
     "data": {
      "text/plain": [
       "array([84.61880789, 84.96410592, 96.63558104, ...,  3.17264901,\n",
       "        2.82735099,  8.87709927])"
      ]
     },
     "execution_count": 282,
     "metadata": {},
     "output_type": "execute_result"
    }
   ],
   "source": [
    "lin_reg = LinearRegression()\n",
    "lin_reg.fit(X, y)\n",
    "predictions = lin_reg.predict(X)\n",
    "predictions"
   ]
  },
  {
   "cell_type": "code",
   "execution_count": 217,
   "id": "a5a2e1b5",
   "metadata": {},
   "outputs": [],
   "source": [
    "# put predictions and CBSA into columns\n",
    "combined_AQI[\"Predicted AQI\"]=predictions\n",
    "combined_AQI[\"CBSA\"]=combined_AQI_CBSA"
   ]
  },
  {
   "cell_type": "code",
   "execution_count": 218,
   "id": "c980cc53",
   "metadata": {},
   "outputs": [
    {
     "data": {
      "text/plain": [
       "Index(['Year', 'city_Aberdeen, SD', 'city_Aberdeen, WA', 'city_Adjuntas, PR',\n",
       "       'city_Adrian, MI', 'city_Akron, OH', 'city_Albany, GA',\n",
       "       'city_Albany, OR', 'city_Albany-Schenectady-Troy, NY',\n",
       "       'city_Albuquerque, NM',\n",
       "       ...\n",
       "       'city_Wilmington, OH', 'city_Winchester, VA-WV', 'city_Winona, MN',\n",
       "       'city_Winston-Salem, NC', 'city_Worcester, MA-CT', 'city_Yakima, WA',\n",
       "       'city_York-Hanover, PA', 'city_Youngstown-Warren-Boardman, OH-PA',\n",
       "       'city_Yuba City, CA', 'city_Yuma, AZ'],\n",
       "      dtype='object', length=545)"
      ]
     },
     "execution_count": 218,
     "metadata": {},
     "output_type": "execute_result"
    }
   ],
   "source": [
    "# view columns\n",
    "X.columns"
   ]
  },
  {
   "cell_type": "code",
   "execution_count": 220,
   "id": "f4a7b368",
   "metadata": {},
   "outputs": [],
   "source": [
    "# Organize new df\n",
    "combined_AQI = combined_AQI[[\"Year\",\"CBSA\",\"Median AQI\", \"Predicted AQI\"]]"
   ]
  },
  {
   "cell_type": "code",
   "execution_count": 244,
   "id": "a4ef405c",
   "metadata": {},
   "outputs": [
    {
     "data": {
      "text/html": [
       "<div>\n",
       "<style scoped>\n",
       "    .dataframe tbody tr th:only-of-type {\n",
       "        vertical-align: middle;\n",
       "    }\n",
       "\n",
       "    .dataframe tbody tr th {\n",
       "        vertical-align: top;\n",
       "    }\n",
       "\n",
       "    .dataframe thead th {\n",
       "        text-align: right;\n",
       "    }\n",
       "</style>\n",
       "<table border=\"1\" class=\"dataframe\">\n",
       "  <thead>\n",
       "    <tr style=\"text-align: right;\">\n",
       "      <th></th>\n",
       "      <th>Year</th>\n",
       "      <th>CBSA</th>\n",
       "      <th>Median AQI</th>\n",
       "      <th>Predicted AQI</th>\n",
       "    </tr>\n",
       "  </thead>\n",
       "  <tbody>\n",
       "    <tr>\n",
       "      <th>8</th>\n",
       "      <td>2014</td>\n",
       "      <td>Bakersfield, CA</td>\n",
       "      <td>97.0</td>\n",
       "      <td>82.035894</td>\n",
       "    </tr>\n",
       "    <tr>\n",
       "      <th>12</th>\n",
       "      <td>2013</td>\n",
       "      <td>Bakersfield, CA</td>\n",
       "      <td>89.0</td>\n",
       "      <td>82.381192</td>\n",
       "    </tr>\n",
       "    <tr>\n",
       "      <th>15</th>\n",
       "      <td>2012</td>\n",
       "      <td>Bakersfield, CA</td>\n",
       "      <td>84.0</td>\n",
       "      <td>82.726490</td>\n",
       "    </tr>\n",
       "    <tr>\n",
       "      <th>17</th>\n",
       "      <td>2018</td>\n",
       "      <td>Bakersfield, CA</td>\n",
       "      <td>84.0</td>\n",
       "      <td>80.654702</td>\n",
       "    </tr>\n",
       "    <tr>\n",
       "      <th>19</th>\n",
       "      <td>2017</td>\n",
       "      <td>Bakersfield, CA</td>\n",
       "      <td>84.0</td>\n",
       "      <td>81.000000</td>\n",
       "    </tr>\n",
       "    <tr>\n",
       "      <th>20</th>\n",
       "      <td>2015</td>\n",
       "      <td>Bakersfield, CA</td>\n",
       "      <td>84.0</td>\n",
       "      <td>81.690596</td>\n",
       "    </tr>\n",
       "    <tr>\n",
       "      <th>23</th>\n",
       "      <td>2021</td>\n",
       "      <td>Bakersfield, CA</td>\n",
       "      <td>84.0</td>\n",
       "      <td>79.618808</td>\n",
       "    </tr>\n",
       "    <tr>\n",
       "      <th>28</th>\n",
       "      <td>2020</td>\n",
       "      <td>Bakersfield, CA</td>\n",
       "      <td>81.0</td>\n",
       "      <td>79.964106</td>\n",
       "    </tr>\n",
       "    <tr>\n",
       "      <th>30</th>\n",
       "      <td>2016</td>\n",
       "      <td>Bakersfield, CA</td>\n",
       "      <td>80.0</td>\n",
       "      <td>81.345298</td>\n",
       "    </tr>\n",
       "    <tr>\n",
       "      <th>69</th>\n",
       "      <td>2019</td>\n",
       "      <td>Bakersfield, CA</td>\n",
       "      <td>67.0</td>\n",
       "      <td>80.309404</td>\n",
       "    </tr>\n",
       "    <tr>\n",
       "      <th>189</th>\n",
       "      <td>2022</td>\n",
       "      <td>Bakersfield, CA</td>\n",
       "      <td>57.0</td>\n",
       "      <td>79.273510</td>\n",
       "    </tr>\n",
       "  </tbody>\n",
       "</table>\n",
       "</div>"
      ],
      "text/plain": [
       "     Year             CBSA  Median AQI  Predicted AQI\n",
       "8    2014  Bakersfield, CA        97.0      82.035894\n",
       "12   2013  Bakersfield, CA        89.0      82.381192\n",
       "15   2012  Bakersfield, CA        84.0      82.726490\n",
       "17   2018  Bakersfield, CA        84.0      80.654702\n",
       "19   2017  Bakersfield, CA        84.0      81.000000\n",
       "20   2015  Bakersfield, CA        84.0      81.690596\n",
       "23   2021  Bakersfield, CA        84.0      79.618808\n",
       "28   2020  Bakersfield, CA        81.0      79.964106\n",
       "30   2016  Bakersfield, CA        80.0      81.345298\n",
       "69   2019  Bakersfield, CA        67.0      80.309404\n",
       "189  2022  Bakersfield, CA        57.0      79.273510"
      ]
     },
     "execution_count": 244,
     "metadata": {},
     "output_type": "execute_result"
    }
   ],
   "source": [
    "# call out bakersfield, CA\n",
    "combined_AQI.loc[combined_AQI[\"CBSA\"]=='Bakersfield, CA']"
   ]
  },
  {
   "cell_type": "code",
   "execution_count": 292,
   "id": "985116c3",
   "metadata": {},
   "outputs": [
    {
     "name": "stderr",
     "output_type": "stream",
     "text": [
      "/Users/mckayepeterson/opt/anaconda3/lib/python3.9/site-packages/sklearn/base.py:450: UserWarning: X does not have valid feature names, but LinearRegression was fitted with feature names\n",
      "  warnings.warn(\n"
     ]
    },
    {
     "data": {
      "text/plain": [
       "array([84.61880789])"
      ]
     },
     "execution_count": 292,
     "metadata": {},
     "output_type": "execute_result"
    }
   ],
   "source": [
    "# predict all the data instead of only samples\n",
    "predictions = lin_reg.predict([X.iloc[0]])\n",
    "predictions"
   ]
  },
  {
   "cell_type": "code",
   "execution_count": 293,
   "id": "532d04f8",
   "metadata": {},
   "outputs": [],
   "source": [
    "# begin predictions by pulling the most and least polluted cities\n",
    "input_AZ = X.iloc[0]\n",
    "#input_Riverside = X.iloc[0]\n",
    "# input_Bakersfield = X.iloc[0]\n",
    "# input_LA = X.iloc[0]\n",
    "# input_Porterville = X.iloc[0]\n",
    "# input_VA = X.iloc[0]\n",
    "# input_MI = X.iloc[0]\n",
    "# input_NM = X.iloc[0]\n",
    "# input_ND = X.iloc[0]\n",
    "# input_ID = X.iloc[0]"
   ]
  },
  {
   "cell_type": "code",
   "execution_count": 295,
   "id": "4847d189",
   "metadata": {},
   "outputs": [
    {
     "name": "stderr",
     "output_type": "stream",
     "text": [
      "/var/folders/67/kpm29h3j48s6bc5bpqjh7_r40000gn/T/ipykernel_2888/1685085021.py:2: SettingWithCopyWarning: \n",
      "A value is trying to be set on a copy of a slice from a DataFrame\n",
      "\n",
      "See the caveats in the documentation: https://pandas.pydata.org/pandas-docs/stable/user_guide/indexing.html#returning-a-view-versus-a-copy\n",
      "  input_AZ['Year']=2023\n"
     ]
    }
   ],
   "source": [
    "# predict next years pollution rates\n",
    "input_AZ['Year']=2023\n",
    "#input_Riverside['Year']=2023\n",
    "# input_Bakersfield['Year']=2023\n",
    "# input_LA['Year']=2023\n",
    "# input_Porterville['Year']=2023\n",
    "# input_VA['Year']=2023\n",
    "# input_MI['Year']=2023\n",
    "# input_NM['Year']=2023\n",
    "# input_ND['Year']=2023\n",
    "# input_ID['Year']=2023"
   ]
  },
  {
   "cell_type": "code",
   "execution_count": 291,
   "id": "5e012e4f",
   "metadata": {},
   "outputs": [
    {
     "name": "stderr",
     "output_type": "stream",
     "text": [
      "/Users/mckayepeterson/opt/anaconda3/lib/python3.9/site-packages/sklearn/base.py:450: UserWarning: X does not have valid feature names, but LinearRegression was fitted with feature names\n",
      "  warnings.warn(\n"
     ]
    },
    {
     "data": {
      "text/plain": [
       "array([75.74639366])"
      ]
     },
     "execution_count": 291,
     "metadata": {},
     "output_type": "execute_result"
    }
   ],
   "source": [
    "#input_AZ,  input_Bakersfield, input_LA, input_Porterville, input_VA, input_MI, input_NM, input_ND, input_ID\n",
    "predictions = lin_reg.predict([input_Riverside])\n",
    "predictions"
   ]
  },
  {
   "cell_type": "code",
   "execution_count": 264,
   "id": "74ebced2",
   "metadata": {},
   "outputs": [],
   "source": [
    "#show results\n",
    "# plt.scatter(y_test, predictions)\n",
    "# plt.xlabel('Y_test')\n",
    "# plt.ylabel('Predicted Y')"
   ]
  },
  {
   "cell_type": "code",
   "execution_count": null,
   "id": "2ae260b4",
   "metadata": {},
   "outputs": [],
   "source": [
    "#X_axis = [input_AZ= ,input_Riverside=83.92821184, ]"
   ]
  },
  {
   "cell_type": "code",
   "execution_count": 209,
   "id": "dcb6b72b",
   "metadata": {},
   "outputs": [],
   "source": [
    "#review the coefficients\n",
    "# coeffecients = pd.DataFrame(lin_reg.coef_,X)\n",
    "# coeffecients.columns = ['Coeffecient']\n",
    "# coeffecients"
   ]
  },
  {
   "cell_type": "code",
   "execution_count": null,
   "id": "8034acc3",
   "metadata": {},
   "outputs": [],
   "source": []
  }
 ],
 "metadata": {
  "kernelspec": {
   "display_name": "PythonData",
   "language": "python",
   "name": "pythondata"
  },
  "language_info": {
   "codemirror_mode": {
    "name": "ipython",
    "version": 3
   },
   "file_extension": ".py",
   "mimetype": "text/x-python",
   "name": "python",
   "nbconvert_exporter": "python",
   "pygments_lexer": "ipython3",
   "version": "3.9.12"
  }
 },
 "nbformat": 4,
 "nbformat_minor": 5
}
