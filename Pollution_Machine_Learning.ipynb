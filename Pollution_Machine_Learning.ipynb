{
 "cells": [
  {
   "cell_type": "code",
   "execution_count": 1,
   "id": "0edc6fc9",
   "metadata": {},
   "outputs": [],
   "source": [
    "import warnings\n",
    "warnings.filterwarnings('ignore')"
   ]
  },
  {
   "cell_type": "code",
   "execution_count": 2,
   "id": "4d0ca7df",
   "metadata": {},
   "outputs": [],
   "source": [
    "# import dependencies\n",
    "import numpy as np\n",
    "import pandas as pd\n",
    "from pathlib import Path\n",
    "from collections import Counter"
   ]
  },
  {
   "cell_type": "code",
   "execution_count": 3,
   "id": "e3f473a9",
   "metadata": {},
   "outputs": [],
   "source": [
    "# import machine learning models and packages\n",
    "from sklearn.metrics import balanced_accuracy_score\n",
    "from sklearn.metrics import confusion_matrix\n",
    "from imblearn.metrics import classification_report_imbalanced"
   ]
  },
  {
   "cell_type": "code",
   "execution_count": 4,
   "id": "ef43b45f",
   "metadata": {},
   "outputs": [],
   "source": [
    "# Read CSV and Perform Basic Data Cleaning\n",
    "# identify target\n",
    "# target = [\"Overall_AQI\"]"
   ]
  },
  {
   "cell_type": "code",
   "execution_count": 5,
   "id": "41af9ecd",
   "metadata": {},
   "outputs": [],
   "source": [
    "# load the appended final .csv\n",
    "# drop any null columns\n",
    "# drop null rows\n",
    "# convert any necessary columns to numerical\n",
    "# convert the target columns to \"Ok\", \"Unhealthy\", \"Hazardous\""
   ]
  },
  {
   "cell_type": "code",
   "execution_count": null,
   "id": "6fa95f29",
   "metadata": {},
   "outputs": [],
   "source": []
  }
 ],
 "metadata": {
  "kernelspec": {
   "display_name": "mlenv",
   "language": "python",
   "name": "mlenv"
  },
  "language_info": {
   "codemirror_mode": {
    "name": "ipython",
    "version": 3
   },
   "file_extension": ".py",
   "mimetype": "text/x-python",
   "name": "python",
   "nbconvert_exporter": "python",
   "pygments_lexer": "ipython3",
   "version": "3.7.13"
  }
 },
 "nbformat": 4,
 "nbformat_minor": 5
}
