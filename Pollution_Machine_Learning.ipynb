{
 "cells": [
  {
   "cell_type": "code",
   "execution_count": 1,
   "id": "5b919e80",
   "metadata": {},
   "outputs": [],
   "source": [
    "import warnings\n",
    "warnings.filterwarnings('ignore')"
   ]
  },
  {
   "cell_type": "code",
   "execution_count": 2,
   "id": "c574ba63",
   "metadata": {},
   "outputs": [],
   "source": [
    "# import dependencies\n",
    "import numpy as np\n",
    "import pandas as pd\n",
    "from pathlib import Path\n",
    "from collections import Counter"
   ]
  },
  {
   "cell_type": "code",
   "execution_count": 9,
   "id": "1226f09f",
   "metadata": {},
   "outputs": [],
   "source": [
    "# import machine learning models and packages\n",
    "from sklearn.metrics import balanced_accuracy_score\n",
    "from sklearn.metrics import confusion_matrix\n",
    "from imblearn.metrics import classification_report_imbalanced\n",
    "from sklearn.model_selection import train_test_split"
   ]
  },
  {
   "cell_type": "code",
   "execution_count": 4,
   "id": "da99a77e",
   "metadata": {},
   "outputs": [],
   "source": [
    "# Read CSV and Perform Basic Data Cleaning if not yet already done\n",
    "# identify target\n",
    "# target = [\"Overall_AQI\"]"
   ]
  },
  {
   "cell_type": "code",
   "execution_count": 5,
   "id": "b375dbac",
   "metadata": {},
   "outputs": [],
   "source": [
    "# load the appended final .csv\n",
    "# drop any null columns\n",
    "# drop null rows\n",
    "# convert any necessary columns to numerical\n",
    "# convert the target columns to \"Ok\", \"Unhealthy\", \"Hazardous\""
   ]
  },
  {
   "cell_type": "code",
   "execution_count": 6,
   "id": "5c350ead",
   "metadata": {},
   "outputs": [],
   "source": [
    "# Split data into training and testing\n",
    "# create features\n",
    "# X = pd.get_dummies(df.drop(columns='date'))\n",
    "# create target\n",
    "# y = df['Overall_AQI']"
   ]
  },
  {
   "cell_type": "code",
   "execution_count": 7,
   "id": "00703949",
   "metadata": {},
   "outputs": [],
   "source": [
    "# view status\n",
    "# X.describe()"
   ]
  },
  {
   "cell_type": "code",
   "execution_count": 8,
   "id": "db2fd65b",
   "metadata": {},
   "outputs": [],
   "source": [
    "# check balance of target values\n",
    "# y.value_counts()"
   ]
  },
  {
   "cell_type": "code",
   "execution_count": 10,
   "id": "01e1a627",
   "metadata": {},
   "outputs": [],
   "source": [
    "# Assign features and target to test and train\n",
    "# X_train, X_test, y_train, y_test = train_test_split(X, y, random_state=1, stratify=y)\n",
    "# X_train.shape"
   ]
  },
  {
   "cell_type": "code",
   "execution_count": 11,
   "id": "40d4c259",
   "metadata": {},
   "outputs": [],
   "source": [
    "# resample training data"
   ]
  },
  {
   "cell_type": "code",
   "execution_count": 12,
   "id": "a3edf28f",
   "metadata": {},
   "outputs": [],
   "source": [
    "# Calculate balanced accuracy score"
   ]
  },
  {
   "cell_type": "code",
   "execution_count": 13,
   "id": "edfd49bb",
   "metadata": {},
   "outputs": [],
   "source": [
    "# display confusion matrix"
   ]
  },
  {
   "cell_type": "code",
   "execution_count": 14,
   "id": "e8f60e87",
   "metadata": {},
   "outputs": [],
   "source": [
    "# print imbalanced classification report"
   ]
  },
  {
   "cell_type": "code",
   "execution_count": 15,
   "id": "fcc4fcec",
   "metadata": {},
   "outputs": [],
   "source": [
    "# List the features sorted in descending order by feature importance"
   ]
  },
  {
   "cell_type": "code",
   "execution_count": null,
   "id": "e0c3620a",
   "metadata": {},
   "outputs": [],
   "source": []
  }
 ],
 "metadata": {
  "kernelspec": {
   "display_name": "mlenv",
   "language": "python",
   "name": "mlenv"
  },
  "language_info": {
   "codemirror_mode": {
    "name": "ipython",
    "version": 3
   },
   "file_extension": ".py",
   "mimetype": "text/x-python",
   "name": "python",
   "nbconvert_exporter": "python",
   "pygments_lexer": "ipython3",
   "version": "3.7.13"
  }
 },
 "nbformat": 4,
 "nbformat_minor": 5
}
